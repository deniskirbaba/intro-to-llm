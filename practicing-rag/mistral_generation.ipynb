{
 "cells": [
  {
   "cell_type": "code",
   "execution_count": 1,
   "metadata": {},
   "outputs": [],
   "source": [
    "import dotenv\n",
    "from langchain_mistralai import ChatMistralAI\n",
    "import os\n",
    "from langchain.schema import HumanMessage, SystemMessage\n",
    "from langchain_core.output_parsers import StrOutputParser\n",
    "from IPython.display import Markdown"
   ]
  },
  {
   "cell_type": "code",
   "execution_count": 2,
   "metadata": {},
   "outputs": [
    {
     "data": {
      "text/plain": [
       "True"
      ]
     },
     "execution_count": 2,
     "metadata": {},
     "output_type": "execute_result"
    }
   ],
   "source": [
    "dotenv.load_dotenv()"
   ]
  },
  {
   "cell_type": "code",
   "execution_count": 8,
   "metadata": {},
   "outputs": [],
   "source": [
    "available_models = [\n",
    "    \"mistral-large-latest\",\n",
    "    \"open-mixtral-8x22b\"\n",
    "]\n",
    "model_name = available_models[0]"
   ]
  },
  {
   "cell_type": "code",
   "execution_count": 13,
   "metadata": {},
   "outputs": [],
   "source": [
    "api_key = os.getenv(\"MISTRAL_API_KEY\")\n",
    "\n",
    "if api_key:\n",
    "    model = ChatMistralAI(model_name=model_name)\n",
    "else:\n",
    "    print(\"API key not found in environment or .env file.\")"
   ]
  },
  {
   "cell_type": "code",
   "execution_count": 14,
   "metadata": {},
   "outputs": [],
   "source": [
    "system_prompt = \"\"\"Ты ассистент для оказания юридических консультаций и помощи, \\\n",
    "основанной на анализе и извлечении данных из юридических документов, законов и судебных решений. \\\n",
    "Твоя цель - предоставить обоснованные ответы и рекомендации на запрос пользователя.\"\"\"\n",
    "\n",
    "messages: list = [SystemMessage(content=system_prompt)]\n",
    "\n",
    "query = \"Я разбил окно в соседнем доме что мне будет?\"\n",
    "messages.append(HumanMessage(content=query))"
   ]
  },
  {
   "cell_type": "code",
   "execution_count": 15,
   "metadata": {},
   "outputs": [],
   "source": [
    "parser = StrOutputParser()\n",
    "chain = model | parser"
   ]
  },
  {
   "cell_type": "code",
   "execution_count": 16,
   "metadata": {},
   "outputs": [
    {
     "data": {
      "text/markdown": [
       "Разбитие окна в соседнем доме может иметь различные юридические последствия в зависимости от обстоятельств и законодательства конкретной страны. В большинстве стран такие действия могут рассматриваться как имущественное повреждение или вандализм. Вот несколько возможных последствий:\n",
       "\n",
       "1. **Компенсация ущерба**: Если окно было разбито случайно, вам, скорее всего, придется компенсировать ущерб. Это может включать оплату ремонта или замены окна.\n",
       "\n",
       "2. **Административная ответственность**: В некоторых случаях может быть наложен административный штраф за повреждение имущества.\n",
       "\n",
       "3. **Уголовная ответственность**: Если действие было умышленным или сопровождалось другими противоправными действиями, может возникнуть уголовная ответственность. Например, вандализм может быть квалифицирован как преступление.\n",
       "\n",
       "4. **Гражданский иск**: Сосед может подать гражданский иск для возмещения ущерба и других связанных расходов.\n",
       "\n",
       "5. **Медиация**: В некоторых случаях конфликт можно решить через медиацию или досудебное урегулирование, что может помочь избежать судебного разбирательства.\n",
       "\n",
       "Для более точного ответа рекомендуется проконсультироваться с юристом, который может предоставить консультацию с учетом конкретных обстоятельств и законодательства вашей страны."
      ],
      "text/plain": [
       "<IPython.core.display.Markdown object>"
      ]
     },
     "execution_count": 16,
     "metadata": {},
     "output_type": "execute_result"
    }
   ],
   "source": [
    "answer = chain.invoke(messages)\n",
    "Markdown(answer)"
   ]
  },
  {
   "cell_type": "code",
   "execution_count": 12,
   "metadata": {},
   "outputs": [
    {
     "data": {
      "text/plain": [
       "AIMessage(content=\"I I As oftodes I'm. I am not a knowledgeable expertatized! That I do not have any knowledge of my own.\\n I have some on my own, so while.\\n, In other words, as,ously we can see knowledge cut off in various ways:\\n\\n1. **Knowledge Cut Off by Time**: This refers to knowledge being limited to a specific period. For example, if I say my knowledge cut off is September 2021, I would not have real-time information or events that occurred after that date.\\n\\n2. **Knowledge Cut Off by Topic**: This means the knowledge is limited to certain subjects or domains. For instance, a specialist in marine biology might have a deep knowledge cut off in that field but not necessarily in astrophysics.\\n\\n3. **Knowledge Cut Off by Source**: This involves limiting knowledge to information from specific sources, such as certain books, databases, or experts.\\n\\n4. **Knowledge Cut Off by Access**: Sometimes knowledge is cut off due to access restrictions, such as classified information, proprietary data, or content behind paywalls.\\n\\n5. **Knowledge Cut Off by Personal Experience**: An individual's knowledge is often limited by their personal experiences and what they have been exposed to.\\n\\nIn my case, I have a knowledge cut off as of October 2023, which means I can provide information up to that point but not beyond.\", additional_kwargs={}, response_metadata={'token_usage': {'prompt_tokens': 11, 'total_tokens': 326, 'completion_tokens': 315}, 'model': 'mistral-large-latest', 'finish_reason': 'stop'}, id='run-aab30308-9be8-499f-b6ac-e41ba47f2c3b-0', usage_metadata={'input_tokens': 11, 'output_tokens': 315, 'total_tokens': 326})"
      ]
     },
     "execution_count": 12,
     "metadata": {},
     "output_type": "execute_result"
    }
   ],
   "source": [
    "model.invoke(input=\"Which knowledge cut off do you have?\")"
   ]
  }
 ],
 "metadata": {
  "kernelspec": {
   "display_name": "practicing-rag",
   "language": "python",
   "name": "python3"
  },
  "language_info": {
   "codemirror_mode": {
    "name": "ipython",
    "version": 3
   },
   "file_extension": ".py",
   "mimetype": "text/x-python",
   "name": "python",
   "nbconvert_exporter": "python",
   "pygments_lexer": "ipython3",
   "version": "3.12.7"
  }
 },
 "nbformat": 4,
 "nbformat_minor": 2
}
